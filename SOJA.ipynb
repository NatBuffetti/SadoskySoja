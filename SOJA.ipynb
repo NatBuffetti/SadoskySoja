{
 "cells": [
  {
   "cell_type": "markdown",
   "metadata": {},
   "source": [
    "# PROYECTO SADOSKY - MATBA ROFEX \n",
    "\n",
    "Un trabajo de [Micaela Kulesz](https://www.slu.se/en/ew-cv/micaela-maria-kulesz/) y [Natalia Buffetti](https://www.linkedin.com/in/nataliabuffetti/)\n"
   ]
  },
  {
   "cell_type": "markdown",
   "metadata": {},
   "source": [
    "## Evaluación\n",
    "\n",
    "### Objetivos\n",
    "\n",
    "1. Lograr el mejor fit para la serie de retornos simples diarios (p1-p0)/p0. Serie desde la Fecha de Cierre del Concurso (FCC) + 10 días hábiles.\n",
    "2. Lograr la mejor proyección para el último valor de la serie contínua de la soja al fin del concurso. Cierra a la FCC + 10 días hábiles.\n",
    "3. Lograr el mejor fit para la serie de retornos simples diarios de 4 semanas. Desde FCC - 10 días hábiles, hasta FCC + 10 días hábiles.\n",
    "\n",
    "![objetivos](sadosky.jpeg)\n",
    "\n",
    "### Métricas\n",
    "\n",
    "La calificación de la solución propuesta se hace con el error absoluto medio ([MAE](https://en.wikipedia.org/wiki/Mean_absolute_error) por su sigla en inglés) y se calcula como el promedio de las diferencias (en valor absoluto) entre las respuestas enviadas y las correctas:\n",
    "\n",
    "### Formato de respuesta\n",
    "\n",
    "Debe enviarse un archivo en formato csv sin encabezado con 4 columnas y 20 filas.\n",
    "\n",
    "+ Primer columna debe contener al número de fila (int).\n",
    "+ Segunda columna debe contener las fechas correspondientes en formato \"dd/mm/YYYY.\"\n",
    "+ Tercer columna debe contener los retornos (float).\n",
    "+ Cuarta columna debe contener el precio (cierre del día) del contrato (float).\n",
    "\n",
    "Las filas 1 a 10 corresponden a FCC - 10 días hábiles y las filas 11 a 20 corresponden a la proyección futura.\n",
    "\n",
    "### Fechas Importantes\n",
    "\n",
    "+ 2/9/2019 | Comienzo de la competencia.\n",
    "+ 27/9/2019 | Última actualización del dataset oficial.\n",
    "+ 29/9/2019 | Último día para enviar los resultados e inscribirse. Corresponde a la Fecha de **Cierre del Concurso (FCC)**.\n",
    "+ 30/9/2019 | Comienza período de evaluación.\n",
    "\n",
    "**Aclaración:** Si bien ahora es posible hacer un submit y tener un score circunstancial para ir probando modelos; lo único que importará al final de la competencia son las respuestas que se envíen entre el día **27/9/2019 al cierre del mercado y el 29/9/2019 (inclusive)**. Además a los diez primeros se les pedirá un informe que explique el modelo en el cual basaron la proyección que será definitorio en caso de un empate."
   ]
  },
  {
   "cell_type": "markdown",
   "metadata": {},
   "source": [
    "## Desarrollo del estudio"
   ]
  },
  {
   "cell_type": "code",
   "execution_count": null,
   "metadata": {},
   "outputs": [],
   "source": []
  }
 ],
 "metadata": {
  "kernelspec": {
   "display_name": "Python 3",
   "language": "python",
   "name": "python3"
  },
  "language_info": {
   "codemirror_mode": {
    "name": "ipython",
    "version": 3
   },
   "file_extension": ".py",
   "mimetype": "text/x-python",
   "name": "python",
   "nbconvert_exporter": "python",
   "pygments_lexer": "ipython3",
   "version": "3.7.3"
  },
  "toc": {
   "base_numbering": 1,
   "nav_menu": {},
   "number_sections": true,
   "sideBar": true,
   "skip_h1_title": false,
   "title_cell": "Table of Contents",
   "title_sidebar": "Contents",
   "toc_cell": false,
   "toc_position": {},
   "toc_section_display": true,
   "toc_window_display": false
  },
  "varInspector": {
   "cols": {
    "lenName": 16,
    "lenType": 16,
    "lenVar": 40
   },
   "kernels_config": {
    "python": {
     "delete_cmd_postfix": "",
     "delete_cmd_prefix": "del ",
     "library": "var_list.py",
     "varRefreshCmd": "print(var_dic_list())"
    },
    "r": {
     "delete_cmd_postfix": ") ",
     "delete_cmd_prefix": "rm(",
     "library": "var_list.r",
     "varRefreshCmd": "cat(var_dic_list()) "
    }
   },
   "types_to_exclude": [
    "module",
    "function",
    "builtin_function_or_method",
    "instance",
    "_Feature"
   ],
   "window_display": false
  }
 },
 "nbformat": 4,
 "nbformat_minor": 2
}
